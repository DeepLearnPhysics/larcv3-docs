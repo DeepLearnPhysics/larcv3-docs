{
 "cells": [
  {
   "cell_type": "markdown",
   "id": "b45d9aa4",
   "metadata": {},
   "source": [
    "# Reading Files\n",
    "\n",
    "Reading back files is fairly simple.  For this tutorial, we'll use some internal tools to larcv to create some files, then read them back and vaildate the results.\n",
    "\n",
    "As a side note ... this is exactly what the CI Tests are doing to validate the serialization / deserialization process."
   ]
  },
  {
   "cell_type": "code",
   "execution_count": 7,
   "id": "f9dfc64e",
   "metadata": {},
   "outputs": [],
   "source": [
    "import larcv\n",
    "import numpy\n",
    "from random import Random\n",
    "\n",
    "random = Random()"
   ]
  },
  {
   "cell_type": "markdown",
   "id": "5821d74c",
   "metadata": {},
   "source": [
    "## Step 1 - Create a file with a data product in it\n",
    "\n",
    "Any data product will do, but we'll use Sparse Clusters in 3D because that's one of the more complex data products."
   ]
  },
  {
   "cell_type": "code",
   "execution_count": 8,
   "id": "8d462b5e",
   "metadata": {},
   "outputs": [],
   "source": [
    "# This is from the larcv/data_generator.py file:\n",
    "\n",
    "def build_sparse_cluster_list(rand_num_events, n_projections=3):\n",
    "\n",
    "\n",
    "    voxel_set_array_list = []\n",
    "     \n",
    "    for event in range(rand_num_events):\n",
    "        #  Add space for an event:\n",
    "        voxel_set_array_list.append([])\n",
    "        # Get a piece of data, sparse tensor:\n",
    "        for projection in range(n_projections):\n",
    "            # In this event, add space for a projection:\n",
    "            voxel_set_array_list[event].append([])\n",
    "            n_clusters = random.randint(1,25)\n",
    "            for cluster in range(n_clusters):\n",
    "\n",
    "                n_voxels = random.randint(1,50)\n",
    "                cluster_d = {                    \n",
    "                    'values'  : [],\n",
    "                    'indexes' : random.sample(range(128*128), n_voxels),\n",
    "                    'n_voxels': n_voxels}\n",
    "                for j in range(n_voxels):\n",
    "                    cluster_d['values'].append(random.uniform(-1e3, 1e3) )\n",
    "\n",
    "                voxel_set_array_list[event][projection].append(cluster_d)\n",
    "\n",
    "    return voxel_set_array_list\n"
   ]
  },
  {
   "cell_type": "markdown",
   "id": "4952220b",
   "metadata": {},
   "source": [
    "And here is the function to write them to file:"
   ]
  },
  {
   "cell_type": "code",
   "execution_count": 9,
   "id": "b4e54847",
   "metadata": {},
   "outputs": [],
   "source": [
    "def write_sparse_clusters(file_name, voxel_set_array_list, dimension=2, n_projections=3):\n",
    "\n",
    "\n",
    "    import copy\n",
    "\n",
    "    io_manager = larcv.IOManager(larcv.IOManager.kWRITE)\n",
    "    io_manager.set_out_file(file_name)\n",
    "    io_manager.initialize()\n",
    "\n",
    "\n",
    "    # For this test, the meta is pretty irrelevant as long as it is consistent\n",
    "    meta_list = []\n",
    "    for projection in range(n_projections):\n",
    "        if dimension == 2:\n",
    "            meta_list.append(larcv.ImageMeta2D())\n",
    "        else:\n",
    "            meta_list.append(larcv.ImageMeta3D())\n",
    "\n",
    "        for dim in range(dimension):\n",
    "            L = 10.\n",
    "            N = 128\n",
    "            meta_list[-1].set_dimension(dim, L, N)\n",
    "\n",
    "        meta_list[-1].set_projection_id(projection)\n",
    "\n",
    "    for i in range(len(voxel_set_array_list)):\n",
    "        io_manager.set_id(1001, 0, i)\n",
    "        # Get a piece of data, sparse cluster:\n",
    "        if dimension== 2:\n",
    "            ev_cluster = io_manager.get_data(\"cluster2d\",\"test\")\n",
    "        else:\n",
    "            ev_cluster = io_manager.get_data(\"cluster3d\",\"test\")\n",
    "\n",
    "\n",
    "        for projection in range(n_projections):\n",
    "            clusters = voxel_set_array_list[i][projection]\n",
    "            if dimension == 2:\n",
    "                vsa = larcv.SparseCluster2D()\n",
    "            else:\n",
    "                vsa = larcv.SparseCluster3D()\n",
    "            for cluster in range(len(clusters)):\n",
    "                vs = larcv.VoxelSet()\n",
    "\n",
    "                vs.id(cluster)\n",
    "                indexes = clusters[cluster]['indexes']\n",
    "                values = clusters[cluster]['values']\n",
    "                for j in range(clusters[cluster]['n_voxels']):\n",
    "                    vs.emplace(indexes[j], values[j], False)\n",
    "                vsa.insert(vs)          \n",
    "            vsa.meta(meta_list[projection])\n",
    "            \n",
    "            ev_cluster.set(vsa)\n",
    "\n",
    "        io_manager.save_entry()\n",
    "\n",
    "\n",
    "\n",
    "\n",
    "    io_manager.finalize()\n",
    "\n",
    "    return"
   ]
  },
  {
   "cell_type": "markdown",
   "id": "d1583044",
   "metadata": {},
   "source": [
    "So, let's write a file to disk:"
   ]
  },
  {
   "cell_type": "code",
   "execution_count": 10,
   "id": "d9047833",
   "metadata": {},
   "outputs": [],
   "source": [
    "voxel_set_array_list = build_sparse_cluster_list(rand_num_events=10, n_projections=2)\n"
   ]
  },
  {
   "cell_type": "code",
   "execution_count": 12,
   "id": "056710a3",
   "metadata": {},
   "outputs": [
    {
     "name": "stdout",
     "output_type": "stream",
     "text": [
      "    \u001b[95m[NORMAL]\u001b[00m \u001b[0m \u001b[94m<IOManager::finalize>\u001b[00m Closing output file\n"
     ]
    }
   ],
   "source": [
    "file_name = \"test_write_sparse_clusters.h5\"\n",
    "write_sparse_clusters(file_name, voxel_set_array_list, dimension=3, n_projections=2)"
   ]
  },
  {
   "cell_type": "markdown",
   "id": "50feda0c",
   "metadata": {},
   "source": [
    "Note that the dimension is pretty arbitrary here, as long as it is 2 or 3.  These data are just noise; there is no change in how noisy it is if you are raveling 2D or 3D data, as long as the total voxel space is big enough.  We used 128 sided spaces in both 2D and 3D above, so it's ok."
   ]
  },
  {
   "cell_type": "markdown",
   "id": "f94e3612",
   "metadata": {},
   "source": [
    "## Read back the sparse clusters"
   ]
  },
  {
   "cell_type": "code",
   "execution_count": 17,
   "id": "1b193e1f",
   "metadata": {},
   "outputs": [
    {
     "name": "stdout",
     "output_type": "stream",
     "text": [
      "Number of clusters:  1\n",
      "Current voxel_set_array_list length:  1\n",
      "Current voxel_set_array_list[0] length:  1\n",
      "Number of clusters:  12\n",
      "Current voxel_set_array_list length:  1\n",
      "Current voxel_set_array_list[0] length:  2\n",
      "    \u001b[95m[NORMAL]\u001b[00m \u001b[0m \u001b[94m<IOManager::prepare_input>\u001b[00m Opening a file in READ mode: \"test_write_sparse_clusters.h5\"\n",
      "    \u001b[95m[NORMAL]\u001b[00m \u001b[0m \u001b[94m<IOManager::prepare_input>\u001b[00m File \"test_write_sparse_clusters.h5\" has 10 entries\n",
      "    \u001b[95m[NORMAL]\u001b[00m \u001b[0m \u001b[94m<IOManager::initialize>\u001b[00m Prepared input with 10 entries...\n",
      "Number of clusters:  1\n",
      "Current voxel_set_array_list length:  2\n",
      "Current voxel_set_array_list[1] length:  1\n",
      "Number of clusters:  13\n",
      "Current voxel_set_array_list length:  2\n",
      "Current voxel_set_array_list[1] length:  2\n",
      "Number of clusters:  10\n",
      "Current voxel_set_array_list length:  3\n",
      "Current voxel_set_array_list[2] length:  1\n",
      "Number of clusters:  10\n",
      "Current voxel_set_array_list length:  3\n",
      "Current voxel_set_array_list[2] length:  2\n",
      "Number of clusters:  7\n",
      "Current voxel_set_array_list length:  4\n",
      "Current voxel_set_array_list[3] length:  1\n",
      "Number of clusters:  15\n",
      "Current voxel_set_array_list length:  4\n",
      "Current voxel_set_array_list[3] length:  2\n",
      "Number of clusters:  4\n",
      "Current voxel_set_array_list length:  5\n",
      "Current voxel_set_array_list[4] length:  1\n",
      "Number of clusters:  16\n",
      "Current voxel_set_array_list length:  5\n",
      "Current voxel_set_array_list[4] length:  2\n",
      "Number of clusters:  4\n",
      "Current voxel_set_array_list length:  6\n",
      "Current voxel_set_array_list[5] length:  1\n",
      "Number of clusters:  19\n",
      "Current voxel_set_array_list length:  6\n",
      "Current voxel_set_array_list[5] length:  2\n",
      "Number of clusters:  24\n",
      "Current voxel_set_array_list length:  7\n",
      "Current voxel_set_array_list[6] length:  1\n",
      "Number of clusters:  24\n",
      "Current voxel_set_array_list length:  7\n",
      "Current voxel_set_array_list[6] length:  2\n",
      "Number of clusters:  15\n",
      "Current voxel_set_array_list length:  8\n",
      "Current voxel_set_array_list[7] length:  1\n",
      "Number of clusters:  7\n",
      "Current voxel_set_array_list length:  8\n",
      "Current voxel_set_array_list[7] length:  2\n",
      "Number of clusters:  4\n",
      "Current voxel_set_array_list length:  9\n",
      "Current voxel_set_array_list[8] length:  1\n",
      "Number of clusters:  6\n",
      "Current voxel_set_array_list length:  9\n",
      "Current voxel_set_array_list[8] length:  2\n",
      "Number of clusters:  4\n",
      "Current voxel_set_array_list length:  10\n",
      "Current voxel_set_array_list[9] length:  1\n",
      "Number of clusters:  18\n",
      "Current voxel_set_array_list length:  10\n",
      "Current voxel_set_array_list[9] length:  2\n"
     ]
    }
   ],
   "source": [
    "\n",
    "\n",
    "io_manager = larcv.IOManager(larcv.IOManager.kREAD)\n",
    "io_manager.add_in_file(file_name)\n",
    "io_manager.initialize()\n",
    "\n",
    "\n",
    "loaded_voxel_set_array_list = []\n",
    "\n",
    "for event in range(io_manager.get_n_entries()):\n",
    "    # append a list of projections for this event:\n",
    "    loaded_voxel_set_array_list.append([])\n",
    "\n",
    "    io_manager.read_entry(event)\n",
    "\n",
    "    # This would be cluster2d, if we used 2d above!\n",
    "    ev_cluster = io_manager.get_data(\"cluster3d\",\"test\")\n",
    "\n",
    "    for projection in range(ev_cluster.size()):\n",
    "        # Append a list of clusters for this projection:\n",
    "        loaded_voxel_set_array_list[event].append([])\n",
    "        print(\"Number of clusters: \", ev_cluster.sparse_cluster(projection).size())\n",
    "        sparse_cluster = ev_cluster.sparse_cluster(projection)\n",
    "        print(\"Current voxel_set_array_list length: \", len(loaded_voxel_set_array_list))\n",
    "        print(f\"Current voxel_set_array_list[{event}] length: \", len(loaded_voxel_set_array_list[event]))\n",
    "        for cluster in range(sparse_cluster.size()):\n",
    "            # Append a dict of values for this cluster\n",
    "            loaded_voxel_set_array_list[event][projection].append({\n",
    "                \"indexes\" : [],\n",
    "                \"values\"  : [],\n",
    "                \"n_voxels\": sparse_cluster.voxel_set(cluster).size()\n",
    "                })\n",
    "            for j in range(sparse_cluster.voxel_set(cluster).size()):\n",
    "                loaded_voxel_set_array_list[event][projection][cluster]['indexes'].append(sparse_cluster.voxel_set(cluster).as_vector()[j].id())\n",
    "                loaded_voxel_set_array_list[event][projection][cluster]['values'].append(sparse_cluster.voxel_set(cluster).as_vector()[j].value())\n",
    "\n",
    "\n"
   ]
  },
  {
   "cell_type": "markdown",
   "id": "654d804a",
   "metadata": {},
   "source": [
    "## Step 3 - Check it's consistent\n",
    "\n",
    "These are some basic checks (the ones in the CI test) to make sure the data read back matches the data that went in."
   ]
  },
  {
   "cell_type": "code",
   "execution_count": 22,
   "id": "ade5dd84",
   "metadata": {},
   "outputs": [
    {
     "name": "stdout",
     "output_type": "stream",
     "text": [
      "All assertions passed.\n"
     ]
    }
   ],
   "source": [
    "\n",
    "# Check the same number of events came back:\n",
    "assert(len(loaded_voxel_set_array_list) == 10)\n",
    "for event in range(10):\n",
    "    # Check the same number of projections per event:\n",
    "    print\n",
    "    assert(len(loaded_voxel_set_array_list[event]) == len(voxel_set_array_list[event]))\n",
    "\n",
    "    for projection in range(2):\n",
    "        # CHeck the number of clusters in this projection:\n",
    "        assert(len(loaded_voxel_set_array_list[event][projection]) == len(voxel_set_array_list[event][projection]))\n",
    "\n",
    "        for cluster in range(len(loaded_voxel_set_array_list[event][projection])):\n",
    "            # Check the same number of voxels:\n",
    "            input_voxelset = voxel_set_array_list[event][projection][cluster]\n",
    "            read_voxelset = loaded_voxel_set_array_list[event][projection][cluster]\n",
    "            assert(read_voxelset['n_voxels'] == input_voxelset['n_voxels'])\n",
    "\n",
    "            # Check voxel properties:\n",
    "            # Sum of indexes\n",
    "            # Sum of values\n",
    "            # std of values\n",
    "            if input_voxelset['n_voxels'] == 0:\n",
    "                continue\n",
    "            # print(input_voxelset['values'])\n",
    "            assert(numpy.sum(input_voxelset['indexes']) == numpy.sum(read_voxelset['indexes']))\n",
    "            assert( abs( numpy.sum(input_voxelset['values']) - numpy.sum(read_voxelset['values']) ) < 1e-3 )\n",
    "            assert( abs( numpy.std(input_voxelset['values']) - numpy.std(read_voxelset['values']) ) < 1e-3 )\n",
    "\n",
    "print(\"All assertions passed.\")"
   ]
  },
  {
   "cell_type": "code",
   "execution_count": null,
   "id": "e9abb005",
   "metadata": {},
   "outputs": [],
   "source": []
  }
 ],
 "metadata": {
  "kernelspec": {
   "display_name": "Python 3 (ipykernel)",
   "language": "python",
   "name": "python3"
  },
  "language_info": {
   "codemirror_mode": {
    "name": "ipython",
    "version": 3
   },
   "file_extension": ".py",
   "mimetype": "text/x-python",
   "name": "python",
   "nbconvert_exporter": "python",
   "pygments_lexer": "ipython3",
   "version": "3.7.3"
  }
 },
 "nbformat": 4,
 "nbformat_minor": 5
}
